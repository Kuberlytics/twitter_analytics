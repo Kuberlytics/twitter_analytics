{
 "cells": [
  {
   "cell_type": "markdown",
   "metadata": {},
   "source": [
    "## Extract Data from Pardot and Save it to a CSV for Further Processing\n",
    "- This is a context in which data is pulled from the Salesforce API and saved as a CSV.\n",
    "- There are a number of packages required."
   ]
  },
  {
   "cell_type": "code",
   "execution_count": 1,
   "metadata": {
    "collapsed": false
   },
   "outputs": [],
   "source": [
    "#!pip3 install simple_salesforce plotly pymongo urllib3 oauth2client httplib2 datetime"
   ]
  },
  {
   "cell_type": "code",
   "execution_count": 2,
   "metadata": {
    "collapsed": false
   },
   "outputs": [],
   "source": [
    "#This imports the configuration and sets the files. \n",
    "import configparser\n",
    "cfg = configparser.ConfigParser()\n",
    "#cfg.read('../../config_dev.ini')\n",
    "cfg.read('../../config_prd.ini')\n",
    "file_marker='_all'\n",
    "\n"
   ]
  },
  {
   "cell_type": "code",
   "execution_count": 3,
   "metadata": {
    "collapsed": false
   },
   "outputs": [
    {
     "data": {
      "text/plain": [
       "'2017-02-13 23:09'"
      ]
     },
     "execution_count": 3,
     "metadata": {},
     "output_type": "execute_result"
    }
   ],
   "source": [
    "from datetime import datetime\n",
    "from pytz import timezone\n",
    "tz = timezone('America/Chicago')\n",
    "now = datetime.now(tz) \n",
    "dateAPI=now.strftime('%Y-%m-%d %H:%M')\n",
    "dateAPI"
   ]
  },
  {
   "cell_type": "code",
   "execution_count": 4,
   "metadata": {
    "collapsed": false
   },
   "outputs": [],
   "source": [
    "import pickle\n",
    "import pandas as pd\n",
    "pd.set_option(\"display.max_rows\",999)\n",
    "pd.set_option(\"display.max_columns\",999)\n",
    "import datetime\n",
    "import logging\n",
    "#This connects to the mongoDB\n",
    "import pymongo\n",
    "import cgi\n",
    "import requests\n",
    "import json\n",
    "from sqlalchemy import create_engine\n"
   ]
  },
  {
   "cell_type": "code",
   "execution_count": 4,
   "metadata": {
    "collapsed": false
   },
   "outputs": [],
   "source": [
    "\n",
    "mongouri=cfg.get('Mongo', 'mongouri')\n",
    "mongodb=cfg.get('Mongo', 'mongodb')\n",
    "home= cfg.get('Default', 'home')\n",
    "#postgres_uri= cfg.get('Postgres', 'postgres_uri')\n",
    "on_docker= cfg.get('Default', 'on_docker')\n",
    "salesforce_email= cfg.get('Salesforce', 'salesforce_email')\n",
    "pardot_email= cfg.get('Salesforce', 'pardot_email')\n",
    "pardot_password= cfg.get('Salesforce', 'pardot_password')\n",
    "pardot_user_key= cfg.get('Salesforce', 'pardot_user_key')\n",
    "pardot_api_base= cfg.get('Salesforce', 'pardot_api_base')\n"
   ]
  },
  {
   "cell_type": "code",
   "execution_count": 5,
   "metadata": {
    "collapsed": false
   },
   "outputs": [],
   "source": [
    "#engine = create_engine(postgress_uri)\n",
    "today = datetime.datetime.now().strftime(\"%Y%m%d-%H%M%S\")\n",
    "today = '_'+today\n",
    "logger = logging.getLogger('Salesforce')\n",
    "hdlr = logging.FileHandler('../../logs/salesforce.log')\n",
    "formatter = logging.Formatter('%(asctime)s %(levelname)s %(message)s')\n",
    "hdlr.setFormatter(formatter)\n",
    "logger.addHandler(hdlr) \n",
    "logger.setLevel(logging.INFO)\n",
    "\n"
   ]
  },
  {
   "cell_type": "code",
   "execution_count": 6,
   "metadata": {
    "collapsed": true
   },
   "outputs": [],
   "source": [
    "def logIt(message):\n",
    "    logger.info(message)\n",
    "    print(message)"
   ]
  },
  {
   "cell_type": "code",
   "execution_count": 7,
   "metadata": {
    "collapsed": false
   },
   "outputs": [
    {
     "name": "stdout",
     "output_type": "stream",
     "text": [
      "Connection to MongoDB was successful.\n"
     ]
    }
   ],
   "source": [
    "\n",
    "# Connection to Mongo DB\n",
    "try:\n",
    "    conn=pymongo.MongoClient(mongouri)\n",
    "    db = conn[mongodb]\n",
    "    logIt(\"Connection to MongoDB was successful.\")\n",
    "except:\n",
    "    logIt(\"Connection to MongoDB failed.\", db)\n",
    "    #This retreives the User Tokens.\n"
   ]
  },
  {
   "cell_type": "code",
   "execution_count": 8,
   "metadata": {
    "collapsed": false
   },
   "outputs": [
    {
     "name": "stdout",
     "output_type": "stream",
     "text": [
      "Retrieved User Token.\n"
     ]
    }
   ],
   "source": [
    "#This retreives the User Tokens.\n",
    "try:\n",
    "    user = db.users.find_one({'email':salesforce_email})\n",
    "    access_token=user['tokens'][0]['accessToken']['params']['access_token']\n",
    "    refresh_token=user['tokens'][0]['refreshToken']\n",
    "    instance_url=user['tokens'][0]['accessToken']['params']['instance_url']\n",
    "    logIt(\"Retrieved User Token.\" )\n",
    "except: \n",
    "    logIt(\"Token retreival not successful.\")"
   ]
  },
  {
   "cell_type": "code",
   "execution_count": 9,
   "metadata": {
    "collapsed": false
   },
   "outputs": [
    {
     "name": "stdout",
     "output_type": "stream",
     "text": [
      "Retrieved updated api_key.\n"
     ]
    }
   ],
   "source": [
    "#This gets a api_key.\n",
    "data = {\n",
    "\t   'email': pardot_email,\n",
    "\t   'password': pardot_password,\n",
    "\t   'user_key': pardot_user_key,\n",
    "       'format': 'json'\n",
    "}\n",
    "\n",
    "try:\n",
    "    response = requests.post(pardot_api_base,data=data).json()\n",
    "    api_key=response['api_key']\n",
    "    logIt('Retrieved updated api_key.')\n",
    "except:\n",
    "    logIt('Error retrieving updated api_key.', response)\n"
   ]
  },
  {
   "cell_type": "code",
   "execution_count": null,
   "metadata": {
    "collapsed": true
   },
   "outputs": [],
   "source": [
    "/api/email/version/3/do/stats/id/<email id>"
   ]
  },
  {
   "cell_type": "code",
   "execution_count": 20,
   "metadata": {
    "collapsed": false
   },
   "outputs": [],
   "source": [
    "def pardotObject(objectName,offset,updated_after=None,emailId=None):\n",
    "    if emailId!=None:\n",
    "        extension='/query'\n",
    "    else:\n",
    "        extension='/query'\n",
    "    \n",
    "    \n",
    "    api_url='https://pi.pardot.com/api/'+objectName+'/version/3/do'+extension\n",
    "    data = {\n",
    "\t   'api_key': api_key,\n",
    "\t   'user_key': pardot_user_key,\n",
    "       'format': 'json',\n",
    "       'output': 'bulk',\n",
    "       'offset': offset\n",
    "    }\n",
    "    if updated_after!=None:\n",
    "        data['updated_after']=updated_after\n",
    "    if email!=None:\n",
    "        data['email']=email\n",
    "\n",
    "\n",
    "    try:\n",
    "        logIt('Trying URL: '+api_url)\n",
    "        \n",
    "        return requests.post(api_url,data=data).json()\n",
    "        \n",
    "    except:\n",
    "        logIt('Error retrieving data.', response)\n",
    "        return \"error\"\n",
    "\n"
   ]
  },
  {
   "cell_type": "code",
   "execution_count": 21,
   "metadata": {
    "collapsed": false
   },
   "outputs": [],
   "source": [
    "def pardotQuery(objectName,offset=0, updated_after=None, maxApiCalls=None,emailId=None):\n",
    "    file=home+'data/csv/production/'+pardot_email+'-'+'pardot'+'-'+objectName+today+\".csv\"\n",
    "    out = open ( file , 'w')\n",
    "    response=pardotObject(objectName, offset,updated_after,email)\n",
    "    if response['result']!=None:\n",
    "        df=pd.DataFrame(response['result'][objectName])\n",
    "        df.to_csv(out, header=True)\n",
    "        offset+=len(df.index)\n",
    "        apiCalls=1\n",
    "        logIt('Records Retreived: '+str(offset)+' in '+str(apiCalls)+' api calls.\\n')\n",
    "    while response['result']!=None and apiCalls<maxApiCalls:\n",
    "        response=pardotObject(objectName, offset,updated_after,email)\n",
    "        if response['result']!=None:\n",
    "            df=pd.DataFrame(response['result'][objectName])\n",
    "            df.to_csv(out, header=False)\n",
    "            offset+=len(df.index)\n",
    "            apiCalls+=1\n",
    "            logIt('Records Retreived: '+str(offset)+' in '+str(apiCalls)+' api calls.\\n')\n",
    "        else:\n",
    "            logIt('Finished')\n",
    "    out.close()\n"
   ]
  },
  {
   "cell_type": "code",
   "execution_count": 22,
   "metadata": {
    "collapsed": false
   },
   "outputs": [
    {
     "name": "stdout",
     "output_type": "stream",
     "text": [
      "Trying URL: https://pi.pardot.com/api/prospect/version/3/do/query\n",
      "Records Retreived: 200 in 1 api calls.\n",
      "\n",
      "Trying URL: https://pi.pardot.com/api/prospect/version/3/do/query\n",
      "Records Retreived: 400 in 2 api calls.\n",
      "\n",
      "Trying URL: https://pi.pardot.com/api/prospect/version/3/do/query\n",
      "Records Retreived: 600 in 3 api calls.\n",
      "\n"
     ]
    }
   ],
   "source": [
    "pardotQuery(objectName='prospect', maxApiCalls=3)"
   ]
  },
  {
   "cell_type": "code",
   "execution_count": 23,
   "metadata": {
    "collapsed": false
   },
   "outputs": [
    {
     "name": "stdout",
     "output_type": "stream",
     "text": [
      "Trying URL: https://pi.pardot.com/api/user/version/3/do/query\n",
      "Records Retreived: 36 in 1 api calls.\n",
      "\n",
      "Trying URL: https://pi.pardot.com/api/user/version/3/do/query\n",
      "Finished\n"
     ]
    }
   ],
   "source": [
    "pardotQuery(objectName='user', maxApiCalls=3)"
   ]
  },
  {
   "cell_type": "code",
   "execution_count": 24,
   "metadata": {
    "collapsed": false
   },
   "outputs": [
    {
     "name": "stdout",
     "output_type": "stream",
     "text": [
      "Trying URL: https://pi.pardot.com/api/campaign/version/3/do/query\n",
      "Records Retreived: 158 in 1 api calls.\n",
      "\n",
      "Trying URL: https://pi.pardot.com/api/campaign/version/3/do/query\n",
      "Finished\n"
     ]
    }
   ],
   "source": [
    "pardotQuery(objectName='campaign', maxApiCalls=3)"
   ]
  },
  {
   "cell_type": "code",
   "execution_count": 25,
   "metadata": {
    "collapsed": false
   },
   "outputs": [
    {
     "name": "stdout",
     "output_type": "stream",
     "text": [
      "Trying URL: https://pi.pardot.com/api/dynamicContent/version/3/do/query\n",
      "Records Retreived: 2 in 1 api calls.\n",
      "\n",
      "Trying URL: https://pi.pardot.com/api/dynamicContent/version/3/do/query\n",
      "Finished\n"
     ]
    }
   ],
   "source": [
    "#Dynamic Content isn't being used.\n",
    "pardotQuery(objectName='dynamicContent', maxApiCalls=3)"
   ]
  },
  {
   "cell_type": "code",
   "execution_count": 26,
   "metadata": {
    "collapsed": false
   },
   "outputs": [
    {
     "name": "stdout",
     "output_type": "stream",
     "text": [
      "Trying URL: https://pi.pardot.com/api/email/version/3/do/query\n"
     ]
    },
    {
     "ename": "KeyError",
     "evalue": "'result'",
     "output_type": "error",
     "traceback": [
      "\u001b[0;31m---------------------------------------------------------------------------\u001b[0m",
      "\u001b[0;31mKeyError\u001b[0m                                  Traceback (most recent call last)",
      "\u001b[0;32m<ipython-input-26-bf2702a24259>\u001b[0m in \u001b[0;36m<module>\u001b[0;34m()\u001b[0m\n\u001b[0;32m----> 1\u001b[0;31m \u001b[0mpardotQuery\u001b[0m\u001b[0;34m(\u001b[0m\u001b[0mobjectName\u001b[0m\u001b[0;34m=\u001b[0m\u001b[0;34m'email'\u001b[0m\u001b[0;34m,\u001b[0m \u001b[0mmaxApiCalls\u001b[0m\u001b[0;34m=\u001b[0m\u001b[0;36m3\u001b[0m\u001b[0;34m,\u001b[0m\u001b[0memail\u001b[0m\u001b[0;34m=\u001b[0m\u001b[0;34m'denise_stones@whhs.com'\u001b[0m\u001b[0;34m)\u001b[0m\u001b[0;34m\u001b[0m\u001b[0m\n\u001b[0m",
      "\u001b[0;32m<ipython-input-21-337538f41cf4>\u001b[0m in \u001b[0;36mpardotQuery\u001b[0;34m(objectName, offset, updated_after, maxApiCalls, email)\u001b[0m\n\u001b[1;32m      3\u001b[0m     \u001b[0mout\u001b[0m \u001b[0;34m=\u001b[0m \u001b[0mopen\u001b[0m \u001b[0;34m(\u001b[0m \u001b[0mfile\u001b[0m \u001b[0;34m,\u001b[0m \u001b[0;34m'w'\u001b[0m\u001b[0;34m)\u001b[0m\u001b[0;34m\u001b[0m\u001b[0m\n\u001b[1;32m      4\u001b[0m     \u001b[0mresponse\u001b[0m\u001b[0;34m=\u001b[0m\u001b[0mpardotObject\u001b[0m\u001b[0;34m(\u001b[0m\u001b[0mobjectName\u001b[0m\u001b[0;34m,\u001b[0m \u001b[0moffset\u001b[0m\u001b[0;34m,\u001b[0m\u001b[0mupdated_after\u001b[0m\u001b[0;34m,\u001b[0m\u001b[0memail\u001b[0m\u001b[0;34m)\u001b[0m\u001b[0;34m\u001b[0m\u001b[0m\n\u001b[0;32m----> 5\u001b[0;31m     \u001b[0;32mif\u001b[0m \u001b[0mresponse\u001b[0m\u001b[0;34m[\u001b[0m\u001b[0;34m'result'\u001b[0m\u001b[0;34m]\u001b[0m\u001b[0;34m!=\u001b[0m\u001b[0;32mNone\u001b[0m\u001b[0;34m:\u001b[0m\u001b[0;34m\u001b[0m\u001b[0m\n\u001b[0m\u001b[1;32m      6\u001b[0m         \u001b[0mdf\u001b[0m\u001b[0;34m=\u001b[0m\u001b[0mpd\u001b[0m\u001b[0;34m.\u001b[0m\u001b[0mDataFrame\u001b[0m\u001b[0;34m(\u001b[0m\u001b[0mresponse\u001b[0m\u001b[0;34m[\u001b[0m\u001b[0;34m'result'\u001b[0m\u001b[0;34m]\u001b[0m\u001b[0;34m[\u001b[0m\u001b[0mobjectName\u001b[0m\u001b[0;34m]\u001b[0m\u001b[0;34m)\u001b[0m\u001b[0;34m\u001b[0m\u001b[0m\n\u001b[1;32m      7\u001b[0m         \u001b[0mdf\u001b[0m\u001b[0;34m.\u001b[0m\u001b[0mto_csv\u001b[0m\u001b[0;34m(\u001b[0m\u001b[0mout\u001b[0m\u001b[0;34m,\u001b[0m \u001b[0mheader\u001b[0m\u001b[0;34m=\u001b[0m\u001b[0;32mTrue\u001b[0m\u001b[0;34m)\u001b[0m\u001b[0;34m\u001b[0m\u001b[0m\n",
      "\u001b[0;31mKeyError\u001b[0m: 'result'"
     ]
    }
   ],
   "source": [
    "pardotQuery(objectName='email', maxApiCalls=3,email='denise_stones@whhs.com')"
   ]
  },
  {
   "cell_type": "code",
   "execution_count": 27,
   "metadata": {
    "collapsed": false
   },
   "outputs": [
    {
     "data": {
      "text/plain": [
       "{'@attributes': {'stat': 'ok', 'version': 1},\n",
       " 'api_key': 'a95f9c4a0ce5502c9f4edb0939f7f4a7'}"
      ]
     },
     "execution_count": 27,
     "metadata": {},
     "output_type": "execute_result"
    }
   ],
   "source": [
    "response"
   ]
  },
  {
   "cell_type": "code",
   "execution_count": null,
   "metadata": {
    "collapsed": true
   },
   "outputs": [],
   "source": []
  }
 ],
 "metadata": {
  "kernelspec": {
   "display_name": "Python 3",
   "language": "python",
   "name": "python3"
  },
  "language_info": {
   "codemirror_mode": {
    "name": "ipython",
    "version": 3
   },
   "file_extension": ".py",
   "mimetype": "text/x-python",
   "name": "python",
   "nbconvert_exporter": "python",
   "pygments_lexer": "ipython3",
   "version": "3.5.2"
  }
 },
 "nbformat": 4,
 "nbformat_minor": 0
}
