{
 "cells": [
  {
   "cell_type": "code",
   "execution_count": 1,
   "metadata": {
    "collapsed": false
   },
   "outputs": [
    {
     "name": "stdout",
     "output_type": "stream",
     "text": [
      "Collecting airflow\n",
      "  Downloading airflow-1.7.1.3.tar.gz (7.4MB)\n",
      "\u001b[K    100% |████████████████████████████████| 7.4MB 95kB/s \n",
      "\u001b[?25hCollecting alembic<0.9,>=0.8.3 (from airflow)\n",
      "  Downloading alembic-0.8.10.tar.gz (976kB)\n",
      "\u001b[K    100% |████████████████████████████████| 983kB 285kB/s \n",
      "\u001b[?25hCollecting babel<2.0,>=1.3 (from airflow)\n",
      "  Downloading Babel-1.3.tar.gz (3.4MB)\n",
      "\u001b[K    100% |████████████████████████████████| 3.4MB 203kB/s \n",
      "\u001b[?25hCollecting chartkick<0.5,>=0.4.2 (from airflow)\n",
      "  Downloading chartkick-0.4.2.tar.gz\n",
      "Collecting croniter<0.4,>=0.3.8 (from airflow)\n",
      "  Downloading croniter-0.3.14.tar.gz\n",
      "Requirement already satisfied: dill<0.3,>=0.2.2 in /opt/conda/lib/python3.5/site-packages (from airflow)\n",
      "Collecting python-daemon<2.2,>=2.1.1 (from airflow)\n",
      "  Downloading python_daemon-2.1.2-py2.py3-none-any.whl\n",
      "Collecting flask<0.11,>=0.10.1 (from airflow)\n",
      "  Downloading Flask-0.10.1.tar.gz (544kB)\n",
      "\u001b[K    100% |████████████████████████████████| 552kB 391kB/s \n",
      "\u001b[?25hCollecting flask-admin==1.4.0 (from airflow)\n",
      "  Downloading Flask-Admin-1.4.0.tar.gz (868kB)\n",
      "\u001b[K    100% |████████████████████████████████| 870kB 387kB/s \n",
      "\u001b[?25hCollecting flask-cache<0.14,>=0.13.1 (from airflow)\n",
      "  Downloading Flask-Cache-0.13.1.tar.gz (45kB)\n",
      "\u001b[K    100% |████████████████████████████████| 51kB 288kB/s \n",
      "\u001b[?25hCollecting flask-login==0.2.11 (from airflow)\n",
      "  Downloading Flask-Login-0.2.11.tar.gz\n",
      "Collecting future<0.16,>=0.15.0 (from airflow)\n",
      "  Downloading future-0.15.2.tar.gz (1.6MB)\n",
      "\u001b[K    100% |████████████████████████████████| 1.6MB 451kB/s \n",
      "\u001b[?25hCollecting funcsigs<1,>=0.4 (from airflow)\n",
      "  Downloading funcsigs-0.4-py2.py3-none-any.whl\n",
      "Collecting gunicorn<19.4.0,>=19.3.0 (from airflow)\n",
      "  Downloading gunicorn-19.3.0-py2.py3-none-any.whl (110kB)\n",
      "\u001b[K    100% |████████████████████████████████| 112kB 669kB/s \n",
      "\u001b[?25hRequirement already satisfied: jinja2<3.0,>=2.7.3 in /opt/conda/lib/python3.5/site-packages (from airflow)\n",
      "Collecting markdown<3.0,>=2.5.2 (from airflow)\n",
      "  Downloading Markdown-2.6.8.tar.gz (307kB)\n",
      "\u001b[K    100% |████████████████████████████████| 317kB 846kB/s \n",
      "\u001b[?25hRequirement already satisfied: pandas<1.0.0,>=0.15.2 in /opt/conda/lib/python3.5/site-packages (from airflow)\n",
      "Requirement already satisfied: pygments<3.0,>=2.0.1 in /opt/conda/lib/python3.5/site-packages (from airflow)\n",
      "Requirement already satisfied: python-dateutil<3,>=2.3 in /opt/conda/lib/python3.5/site-packages (from airflow)\n",
      "Requirement already satisfied: requests<3,>=2.5.1 in /opt/conda/lib/python3.5/site-packages (from airflow)\n",
      "Collecting setproctitle<2,>=1.1.8 (from airflow)\n",
      "  Downloading setproctitle-1.1.10.tar.gz\n",
      "Requirement already satisfied: sqlalchemy>=0.9.8 in /opt/conda/lib/python3.5/site-packages (from airflow)\n",
      "Collecting thrift<0.10,>=0.9.2 (from airflow)\n",
      "  Downloading thrift-0.9.3.tar.gz\n",
      "Collecting Flask-WTF==0.12 (from airflow)\n",
      "  Downloading Flask-WTF-0.12.tar.gz (247kB)\n",
      "\u001b[K    100% |████████████████████████████████| 256kB 503kB/s \n",
      "\u001b[?25hCollecting Mako (from alembic<0.9,>=0.8.3->airflow)\n",
      "  Downloading Mako-1.0.6.tar.gz (575kB)\n",
      "\u001b[K    100% |████████████████████████████████| 583kB 484kB/s \n",
      "\u001b[?25hCollecting python-editor>=0.3 (from alembic<0.9,>=0.8.3->airflow)\n",
      "  Downloading python-editor-1.0.3.tar.gz\n",
      "Requirement already satisfied: pytz>=0a in /opt/conda/lib/python3.5/site-packages (from babel<2.0,>=1.3->airflow)\n",
      "Collecting docutils (from python-daemon<2.2,>=2.1.1->airflow)\n",
      "  Downloading docutils-0.13.1-py3-none-any.whl (536kB)\n",
      "\u001b[K    100% |████████████████████████████████| 542kB 214kB/s \n",
      "\u001b[?25hRequirement already satisfied: setuptools in /opt/conda/lib/python3.5/site-packages/setuptools-23.0.0-py3.5.egg (from python-daemon<2.2,>=2.1.1->airflow)\n",
      "Collecting lockfile>=0.10 (from python-daemon<2.2,>=2.1.1->airflow)\n",
      "  Downloading lockfile-0.12.2-py2.py3-none-any.whl\n",
      "Collecting Werkzeug>=0.7 (from flask<0.11,>=0.10.1->airflow)\n",
      "  Downloading Werkzeug-0.11.15-py2.py3-none-any.whl (307kB)\n",
      "\u001b[K    100% |████████████████████████████████| 317kB 712kB/s \n",
      "\u001b[?25hCollecting itsdangerous>=0.21 (from flask<0.11,>=0.10.1->airflow)\n",
      "  Downloading itsdangerous-0.24.tar.gz (46kB)\n",
      "\u001b[K    100% |████████████████████████████████| 51kB 460kB/s \n",
      "\u001b[?25hCollecting wtforms (from flask-admin==1.4.0->airflow)\n",
      "  Downloading WTForms-2.1.zip (553kB)\n",
      "\u001b[K    100% |████████████████████████████████| 563kB 190kB/s \n",
      "\u001b[?25hRequirement already satisfied: MarkupSafe in /opt/conda/lib/python3.5/site-packages (from jinja2<3.0,>=2.7.3->airflow)\n",
      "Requirement already satisfied: numpy>=1.7.0 in /opt/conda/lib/python3.5/site-packages (from pandas<1.0.0,>=0.15.2->airflow)\n",
      "Requirement already satisfied: six>=1.5 in /opt/conda/lib/python3.5/site-packages (from python-dateutil<3,>=2.3->airflow)\n",
      "Building wheels for collected packages: airflow, alembic, babel, chartkick, croniter, flask, flask-admin, flask-cache, flask-login, future, markdown, setproctitle, thrift, Flask-WTF, Mako, python-editor, itsdangerous, wtforms\n",
      "  Running setup.py bdist_wheel for airflow ... \u001b[?25l-\b \b\\\b \b|\b \b/\b \b-\b \b\\\b \b|\b \bdone\n",
      "\u001b[?25h  Stored in directory: /home/jovyan/.cache/pip/wheels/09/ca/f7/0b521581ec84ff1bf4bed726264f92337722ff020666e3bf87\n",
      "  Running setup.py bdist_wheel for alembic ... \u001b[?25l-\b \b\\\b \b|\b \bdone\n",
      "\u001b[?25h  Stored in directory: /home/jovyan/.cache/pip/wheels/7c/c2/e7/33e3263f61e5e1049aa2d149d59dae792bbc9c4e11d92ff901\n",
      "  Running setup.py bdist_wheel for babel ... \u001b[?25l-\b \b\\\b \b|\b \b/\b \b-\b \b\\\b \bdone\n",
      "\u001b[?25h  Stored in directory: /home/jovyan/.cache/pip/wheels/22/e8/f9/05086926b0a5f6edb5b427578767f458ecb8caea113d3a133e\n",
      "  Running setup.py bdist_wheel for chartkick ... \u001b[?25l-\b \b\\\b \bdone\n",
      "\u001b[?25h  Stored in directory: /home/jovyan/.cache/pip/wheels/81/88/db/00bf3a10a813774f8007fd311ffd0d57507ffa79b9bb7e46af\n",
      "  Running setup.py bdist_wheel for croniter ... \u001b[?25l-\b \b\\\b \bdone\n",
      "\u001b[?25h  Stored in directory: /home/jovyan/.cache/pip/wheels/64/10/b9/d953588aca5f4f2ef22554efd5d7db882d636e9849df78ae51\n",
      "  Running setup.py bdist_wheel for flask ... \u001b[?25l-\b \b\\\b \b|\b \b/\b \bdone\n",
      "\u001b[?25h  Stored in directory: /home/jovyan/.cache/pip/wheels/b6/09/65/5fcf16f74f334a215447c26769e291c41883862fe0dc7c1430\n",
      "  Running setup.py bdist_wheel for flask-admin ... \u001b[?25l-\b \b\\\b \b|\b \b/\b \bdone\n",
      "\u001b[?25h  Stored in directory: /home/jovyan/.cache/pip/wheels/08/a1/1e/48b750fc0813131469d2acc133deabc85a5b8ade27b91fc0e1\n",
      "  Running setup.py bdist_wheel for flask-cache ... \u001b[?25l-\b \b\\\b \bdone\n",
      "\u001b[?25h  Stored in directory: /home/jovyan/.cache/pip/wheels/d3/ea/07/db4bcd93163f4ac63974a7ce7aa15df9d45cdc9864c8232f9c\n",
      "  Running setup.py bdist_wheel for flask-login ... \u001b[?25l-\b \b\\\b \bdone\n",
      "\u001b[?25h  Stored in directory: /home/jovyan/.cache/pip/wheels/4b/58/2e/fbba562e845fb419f6157a504055275a4d1783a22ebe3124e8\n",
      "  Running setup.py bdist_wheel for future ... \u001b[?25l-\b \b\\\b \b|\b \b/\b \bdone\n",
      "\u001b[?25h  Stored in directory: /home/jovyan/.cache/pip/wheels/11/c5/d2/ad287de27d0f0d646f119dcffb921f4e63df128f28ab0a1bda\n",
      "  Running setup.py bdist_wheel for markdown ... \u001b[?25l-\b \b\\\b \b|\b \b/\b \b-\b \bdone\n",
      "\u001b[?25h  Stored in directory: /home/jovyan/.cache/pip/wheels/85/a7/08/33ee5cd488d0365d8bed79d1d4e5c28dd3fbfc7f6d0ad4bb09\n",
      "  Running setup.py bdist_wheel for setproctitle ... \u001b[?25l-\b \b\\\b \b|\b \b/\b \bdone\n",
      "\u001b[?25h  Stored in directory: /home/jovyan/.cache/pip/wheels/5b/e6/ac/0a9f3ba8962551d270aa651226c7ccb561b3c3f94063cb2f27\n",
      "  Running setup.py bdist_wheel for thrift ... \u001b[?25l-\b \b\\\b \b|\b \b/\b \b-\b \b\\\b \b|\b \b/\b \b-\b \b\\\b \b|\b \bdone\n",
      "\u001b[?25h  Stored in directory: /home/jovyan/.cache/pip/wheels/e5/20/32/cbe6d90e33b19825ea6d251ff0b1c778df8941750f5d5c3d3f\n",
      "  Running setup.py bdist_wheel for Flask-WTF ... \u001b[?25l-\b \b\\\b \b|\b \bdone\n",
      "\u001b[?25h  Stored in directory: /home/jovyan/.cache/pip/wheels/18/3b/40/55a3b380a3ebb1367a2d0831c192dde67c255846e0b257239d\n",
      "  Running setup.py bdist_wheel for Mako ... \u001b[?25l-\b \b\\\b \bdone\n",
      "\u001b[?25h  Stored in directory: /home/jovyan/.cache/pip/wheels/34/be/28/7999aa61d80a775c9e85a5a7d345777f73e87e6e30573e9551\n",
      "  Running setup.py bdist_wheel for python-editor ... \u001b[?25l-\b \b\\\b \bdone\n",
      "\u001b[?25h  Stored in directory: /home/jovyan/.cache/pip/wheels/84/d6/b8/082dc3b5cd7763f17f5500a193b6b248102217cbaa3f0a24ca\n",
      "  Running setup.py bdist_wheel for itsdangerous ... \u001b[?25l-\b \b\\\b \bdone\n",
      "\u001b[?25h  Stored in directory: /home/jovyan/.cache/pip/wheels/fc/a8/66/24d655233c757e178d45dea2de22a04c6d92766abfb741129a\n",
      "  Running setup.py bdist_wheel for wtforms ... \u001b[?25l-\b \b\\\b \bdone\n",
      "\u001b[?25h  Stored in directory: /home/jovyan/.cache/pip/wheels/36/35/f3/7452cd24daeeaa5ec5b2ea13755316abc94e4e7702de29ba94\n",
      "Successfully built airflow alembic babel chartkick croniter flask flask-admin flask-cache flask-login future markdown setproctitle thrift Flask-WTF Mako python-editor itsdangerous wtforms\n",
      "Installing collected packages: Mako, python-editor, alembic, babel, chartkick, croniter, docutils, lockfile, python-daemon, Werkzeug, itsdangerous, flask, wtforms, flask-admin, flask-cache, flask-login, future, funcsigs, gunicorn, markdown, setproctitle, thrift, Flask-WTF, airflow\n",
      "Successfully installed Flask-WTF-0.12 Mako-1.0.6 Werkzeug-0.11.15 airflow-1.7.1.3 alembic-0.8.10 babel-1.3 chartkick-0.4.2 croniter-0.3.14 docutils-0.13.1 flask-0.10.1 flask-admin-1.4.0 flask-cache-0.13.1 flask-login-0.2.11 funcsigs-0.4 future-0.15.2 gunicorn-19.3.0 itsdangerous-0.24 lockfile-0.12.2 markdown-2.6.8 python-daemon-2.1.2 python-editor-1.0.3 setproctitle-1.1.10 thrift-0.9.3 wtforms-2.1\n"
     ]
    }
   ],
   "source": [
    "#!pip install -r ../../requirements.txt"
   ]
  },
  {
   "cell_type": "code",
   "execution_count": 2,
   "metadata": {
    "collapsed": false
   },
   "outputs": [
    {
     "name": "stdout",
     "output_type": "stream",
     "text": [
      "[2017-02-08 20:14:41,434] {__init__.py:36} INFO - Using executor SequentialExecutor\n"
     ]
    }
   ],
   "source": [
    "from airflow import DAG\n",
    "from airflow.operators.bash_operator import BashOperator\n",
    "from airflow.operators.python_operator import PythonOperator\n",
    "from datetime import datetime, timedelta\n",
    "import os\n",
    "from airflow.models import Variable\n",
    "\n"
   ]
  },
  {
   "cell_type": "code",
   "execution_count": 3,
   "metadata": {
    "collapsed": false
   },
   "outputs": [],
   "source": [
    "home='/dojo/'\n",
    "\n",
    "#outDir = Variable.get(\"OUTDIR\")\n",
    "#srcDir = Variable.get(\"SRCDIR\", deserialize_json=True)\n",
    "#srcDir = Variable.get(\"SRCDIR\")\n",
    "\n",
    "#outDir = str(os.environ['OUTDIR'])\n",
    "#srcDir = str(os.environ['SRCDIR'])\n",
    "\n",
    "#outDir=\"/usr/local/airflow/data/airflow/\"\n",
    "#srcDir=\"/usr/local/airflow/code/dataprep/py/\"\n",
    "\n",
    "now = datetime.now()\n",
    "seven_days_ago = datetime.combine(datetime.today() - timedelta(7),\n",
    "                                  datetime.min.time())"
   ]
  },
  {
   "cell_type": "code",
   "execution_count": 4,
   "metadata": {
    "collapsed": false
   },
   "outputs": [],
   "source": [
    "default_args = {\n",
    "    'owner': 'airflow',\n",
    "    'start_date': seven_days_ago,\n",
    "}\n",
    "dag = DAG('salesforce-redshift', schedule_interval='0 * * * *', default_args=default_args)"
   ]
  },
  {
   "cell_type": "code",
   "execution_count": 5,
   "metadata": {
    "collapsed": false
   },
   "outputs": [],
   "source": [
    "task1 = BashOperator(\n",
    "    task_id='salesforce-to-csv',\n",
    "    bash_command='python /dojo/code/dataprep/salesforce_to_csv.py',\n",
    "    dag=dag)"
   ]
  },
  {
   "cell_type": "code",
   "execution_count": null,
   "metadata": {
    "collapsed": true
   },
   "outputs": [],
   "source": [
    "#TBD\n",
    "#Create staging tables."
   ]
  },
  {
   "cell_type": "code",
   "execution_count": null,
   "metadata": {
    "collapsed": true
   },
   "outputs": [],
   "source": [
    "#TBD \n",
    "#salesforce to Redshift-staging"
   ]
  }
 ],
 "metadata": {
  "kernelspec": {
   "display_name": "Python 3",
   "language": "python",
   "name": "python3"
  },
  "language_info": {
   "codemirror_mode": {
    "name": "ipython",
    "version": 3
   },
   "file_extension": ".py",
   "mimetype": "text/x-python",
   "name": "python",
   "nbconvert_exporter": "python",
   "pygments_lexer": "ipython3",
   "version": "3.5.2"
  }
 },
 "nbformat": 4,
 "nbformat_minor": 0
}
