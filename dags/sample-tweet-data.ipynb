{
 "cells": [
  {
   "cell_type": "code",
   "execution_count": 1,
   "metadata": {
    "scrolled": true
   },
   "outputs": [],
   "source": [
    "from datetime import datetime, timedelta, date\n",
    "import os\n",
    "import sys\n",
    "\n",
    "sys.path.append(\"/usr/local/airflow/dags\")\n",
    "import twitter_main as tm\n",
    "import driver as d\n",
    "import twitterutils as tu\n",
    "import sys\n",
    "sys.path.append('../dags') "
   ]
  },
  {
   "cell_type": "code",
   "execution_count": 2,
   "metadata": {},
   "outputs": [
    {
     "data": {
      "text/plain": [
       "<module 'driver' from '/data/startupdata/code/mampij/twitter_analytics/dags/driver.py'>"
      ]
     },
     "execution_count": 2,
     "metadata": {},
     "output_type": "execute_result"
    }
   ],
   "source": [
    "import importlib\n",
    "import driver as d\n",
    "importlib.reload(d) "
   ]
  },
  {
   "cell_type": "code",
   "execution_count": 3,
   "metadata": {},
   "outputs": [],
   "source": [
    "startdate = datetime(2018, 4, 1)\n",
    "default_args = {\n",
    "     'owner': 'jason',\n",
    "     'depends_on_past': False,\n",
    "     'start_date': startdate,\n",
    "     'email': ['jkuruzovich@gmail.com'],\n",
    "     'email_on_failure': True,\n",
    "     'email_on_retry': False,\n",
    "     'retries': 1,\n",
    "     'retry_delay': timedelta(minutes=5),\n",
    "     'max_active_runs': 1\n",
    "#     # 'queue': 'bash_queue',\n",
    "#     # 'pool': 'backfill',\n",
    "#     # 'priority_weight': 10,\n",
    "#     # 'end_date': datetime(2016, 1, 1),\n",
    " }"
   ]
  },
  {
   "cell_type": "code",
   "execution_count": 4,
   "metadata": {
    "scrolled": false
   },
   "outputs": [],
   "source": [
    "# # Create config dictionary\n",
    "cf_dict = d.config_init(\"config/config.yaml\");\n",
    "\n"
   ]
  },
  {
   "cell_type": "code",
   "execution_count": 5,
   "metadata": {},
   "outputs": [],
   "source": [
    "# Authorize twitter\n",
    "twitter = tu.create_twitter_auth(cf_dict)"
   ]
  },
  {
   "cell_type": "code",
   "execution_count": 6,
   "metadata": {
    "scrolled": true
   },
   "outputs": [],
   "source": [
    "# Create dictionary of names\n",
    "all_users = d.get_all_users_from_file(cf_dict)"
   ]
  },
  {
   "cell_type": "code",
   "execution_count": 7,
   "metadata": {},
   "outputs": [
    {
     "name": "stdout",
     "output_type": "stream",
     "text": [
      "{'existing': ['jasonkuruzovich', 'analyticsdojo', 'rpinews', 'joemamp'], 'new': []}\n"
     ]
    }
   ],
   "source": [
    "print(all_users)"
   ]
  },
  {
   "cell_type": "code",
   "execution_count": 8,
   "metadata": {
    "scrolled": true
   },
   "outputs": [
    {
     "name": "stdout",
     "output_type": "stream",
     "text": [
      "Searching twitter for User profile:  Jason Kuruzovich\n",
      "User tweets:  517\n",
      "Searching twitter for User profile:  AnalyticsDojo\n",
      "User tweets:  1\n",
      "Searching twitter for User profile:  RPInews\n",
      "User tweets:  5866\n",
      "Searching twitter for User profile:  Joseph Mampillil\n",
      "User tweets:  57\n"
     ]
    },
    {
     "data": {
      "text/plain": [
       "'/data/startupdata/data/twitter/2019/profiles/2020-02-04-user-profiles.json'"
      ]
     },
     "execution_count": 8,
     "metadata": {},
     "output_type": "execute_result"
    }
   ],
   "source": [
    "d.create_profile_stats(twitter, cf_dict, all_users)"
   ]
  },
  {
   "cell_type": "code",
   "execution_count": 9,
   "metadata": {
    "scrolled": true
   },
   "outputs": [
    {
     "name": "stdout",
     "output_type": "stream",
     "text": [
      "Processing existing user jasonkuruzovich\n",
      "User stats found ...\n",
      "    No new tweets detected for JasonKuruzovich\n",
      "Processing existing user analyticsdojo\n",
      "User stats found ...\n",
      "    No new tweets detected for AnalyticsDojo\n",
      "Processing existing user rpinews\n",
      "User stats found ...\n",
      "    No new tweets detected for RPInews\n",
      "Processing existing user joemamp\n",
      "User stats not found ...\n",
      "    No new tweets detected for JoeMamp\n"
     ]
    }
   ],
   "source": [
    "d.create_timelines(twitter, cf_dict, all_users)"
   ]
  },
  {
   "cell_type": "code",
   "execution_count": null,
   "metadata": {},
   "outputs": [],
   "source": []
  }
 ],
 "metadata": {
  "kernelspec": {
   "display_name": "Python [default]",
   "language": "python",
   "name": "python3"
  },
  "language_info": {
   "codemirror_mode": {
    "name": "ipython",
    "version": 3
   },
   "file_extension": ".py",
   "mimetype": "text/x-python",
   "name": "python",
   "nbconvert_exporter": "python",
   "pygments_lexer": "ipython3",
   "version": "3.6.5"
  }
 },
 "nbformat": 4,
 "nbformat_minor": 4
}
